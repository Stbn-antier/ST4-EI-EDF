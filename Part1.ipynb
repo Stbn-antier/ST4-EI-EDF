{
 "cells": [
  {
   "cell_type": "code",
   "execution_count": 1,
   "metadata": {},
   "outputs": [],
   "source": [
    "import numpy as np\n",
    "import matplotlib.pyplot as plt\n",
    "import scipy.stats as stat\n",
    "import pandas as pd"
   ]
  },
  {
   "cell_type": "markdown",
   "metadata": {},
   "source": [
    "## I. DETERMINATION OF THE DIKE HEIGHT FROM HISTORICAL MEASUREMENTS\n",
    "\n",
    "We focus on the level of water $H$ in function of the flow $Q$ of a river. \n",
    "Our goal is to build a dike to limit accidents caused by floods.  \n",
    "We used an historical set of data measured from 1849 to 1997. \n",
    "HOwever the historical data we received had blank parts. Therefore, to take advantage of all the data we had, we needed to complete these parts.  \n",
    "First, we searched a model for the data wich was complete."
   ]
  },
  {
   "cell_type": "code",
   "execution_count": 2,
   "metadata": {},
   "outputs": [
    {
     "name": "stdout",
     "output_type": "stream",
     "text": [
      "[0.59908676 0.05477014]\n"
     ]
    },
    {
     "data": {
      "text/plain": [
       "<function matplotlib.pyplot.show(close=None, block=None)>"
      ]
     },
     "execution_count": 2,
     "metadata": {},
     "output_type": "execute_result"
    },
    {
     "data": {
      "image/png": "[encoded data removed]",
      "text/plain": [
       "<Figure size 432x288 with 1 Axes>"
      ]
     },
     "metadata": {
      "needs_background": "light"
     },
     "output_type": "display_data"
    }
   ],
   "source": [
    "dh = pd.read_excel (r'Historical data completed.xlsx')\n",
    "df = pd.read_excel (r'Données-projet-EDF_2018-2019 .xlsx')\n",
    "\n",
    "\n",
    "Y, X= df['Hauteur associée mesurée (en m)'] ,df['Débit mesuré maximal annuel (en m3/s)']\n",
    "\n",
    "L=[]\n",
    "for i in range(len(Y)) :\n",
    "  if np.isnan(Y[i]):\n",
    "    L.append(i) \n",
    "\n",
    "\n",
    "X=np.delete(X.to_numpy(),L)\n",
    "Y=np.delete(Y.to_numpy(),L)\n",
    "\n",
    "X1,Y1= np.log(X), np.log(Y)\n",
    "\n",
    "P = np.polyfit(X1,Y1,1)\n",
    "P[1]=np.exp(P[1])\n",
    "X2=np.sort(X)\n",
    "Z= P[1] * X2**P[0]\n",
    "print(P)\n",
    "plt.figure()\n",
    "plt.plot(X2,Z,'r',label='h={a:.4f}*Q^{b:.4f}'.format(a=P[1], b=P[0]))\n",
    "plt.scatter(X,Y,marker='+')\n",
    "plt.title('Historical model')\n",
    "plt.xlabel(r'Water flow $Q$($m^3/s$)')\n",
    "plt.ylabel(r'Water level $H$($m$)')\n",
    "plt.legend()\n",
    "plt.show"
   ]
  },
  {
   "cell_type": "markdown",
   "metadata": {},
   "source": [
    "We were searching a law of the form :  \n",
    "$$ H = a * x ^{\\ b} $$\n",
    "We used the logarithmic function to transform this equation in a linear one :\n",
    "$$ ln(H)= ln(a) + b*ln(X) $$\n",
    "\n",
    "Thus, we were able to use the linear regression module of numpy to obtain (after applying the exponential function) :\n",
    "\n",
    "$$ H = 0.0548 * Q ^ {\\ 0.5991} $$\n",
    "\n",
    "With this model, we were able to complete the missing data.  \n",
    "\n",
    "In second, we used this data to create the experimental CDF :  \n",
    "We considered $H_{1}$, $H_{2}$, ...,$H_{n}$, the maxima heights of water during 1 year\n",
    "\n",
    "$$ F_{n}(x)=\\frac{\\sum_{i=1}^{n}{1_{H_{i}\\leq x}}}{n}$$"
   ]
  },
  {
   "cell_type": "code",
   "execution_count": null,
   "metadata": {},
   "outputs": [],
   "source": [
    "H=P[1] * X**P[0]\n",
    "\n",
    "plt.figure()\n",
    "plt.hist(H, bins = 100, facecolor='b', density=True, cumulative=True, alpha=0.6)\n",
    "plt.title('Flood height CDF : $F_{n}$')\n",
    "plt.xlabel(r'$H$ ($m$)',fontsize=15)\n",
    "plt.ylabel('Frequency',fontsize=15)\n",
    "plt.show()"
   ]
  },
  {
   "cell_type": "markdown",
   "metadata": {},
   "source": [
    "Now, we have an historical model of the water level $H$ from 1849 to 1997. We need to conclude about the dam height $h_{d}$ to minimize the risk of flooding.   \n",
    "To evaluate the potential risk, we need to know the average level of the bank. With the data we obtain :  \n",
    "$$ bank \\ level = E(Z_{b}-Z_{v}) = Z_{b} - E(Z_{v}) = 55,5 - 50 = 5,5 \\ m $$\n",
    "To obtain $h_{d}$, we need to work on $ H - bank \\ level$\n",
    "The modified graphs are :"
   ]
  },
  {
   "cell_type": "code",
   "execution_count": null,
   "metadata": {},
   "outputs": [],
   "source": [
    "Z=Z-5.5\n",
    "Y=Y-5.5\n",
    "H= H-5.5\n",
    "\n",
    "fig, ax = plt.subplots(2,1,figsize=(10,10),sharex=False)\n",
    "\n",
    "ax[0].plot(X2,Z,'r',label='h={a:.4f}*Q^{b:.4f} -5.5'.format(a=P[1], b=P[0]))\n",
    "ax[0].scatter(X,Y,marker='+')\n",
    "ax[0].set_title('Historical model')\n",
    "ax[0].set_xlabel(r'Water flow $Q$($m^3/s$)')\n",
    "ax[0].set_ylabel(r'Water level $H - bank\\ level$($m$)')\n",
    "ax[0].legend()\n",
    "\n",
    "ax[1].hist(H, bins = 100, facecolor='b', density=True, cumulative=True, alpha=0.6)\n",
    "ax[1].set_title('Flood height CDF : $F_{n}$')\n",
    "ax[1].set_xlabel(r'$H$ ($m$)',fontsize=15)\n",
    "ax[1].set_ylabel('Frequency',fontsize=15)\n",
    "\n",
    "plt.show()"
   ]
  },
  {
   "cell_type": "markdown",
   "metadata": {},
   "source": [
    "To make our conclusion on this historical model, we need to choose the quantile we will work on in this study.\n",
    "Usually, in this kind of system with serious consequences on surrounding activities, we choose a quantile between $\\frac{1}{100}$ and $\\frac{1}{1000}$.  \n",
    "In this model, both quantiles have the same value however it will not be the same for future simulations :  \n",
    "We choose the $\\frac{1}{100}$ quantile, corresponding to a flooding every 100 years. "
   ]
  },
  {
   "cell_type": "code",
   "execution_count": null,
   "metadata": {},
   "outputs": [],
   "source": [
    "q = np.quantile(H,0.99)\n",
    "print(\"99th quantile =\",round(q,2),\"m\")"
   ]
  },
  {
   "cell_type": "markdown",
   "metadata": {},
   "source": [
    "Therefore, we need to build a dam with a heigh of $h_{d} = 1.53 \\ m $"
   ]
  }
 ],
 "metadata": {
  "interpreter": {
   "hash": "dfbe69d09349a49120ff36b7a9d7a3d6297f4f930536f8fd166c745a423a6004"
  },
  "kernelspec": {
   "display_name": "Python 3.8.8 ('base')",
   "language": "python",
   "name": "python3"
  },
  "language_info": {
   "codemirror_mode": {
    "name": "ipython",
    "version": 3
   },
   "file_extension": ".py",
   "mimetype": "text/x-python",
   "name": "python",
   "nbconvert_exporter": "python",
   "pygments_lexer": "ipython3",
   "version": "3.8.8"
  },
  "orig_nbformat": 4
 },
 "nbformat": 4,
 "nbformat_minor": 2
}
