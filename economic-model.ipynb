{
 "cells": [
  {
   "cell_type": "code",
   "execution_count": 3,
   "metadata": {},
   "outputs": [
    {
     "name": "stderr",
     "output_type": "stream",
     "text": [
      "<ipython-input-3-9af935e6097a>:26: RuntimeWarning: invalid value encountered in power\n",
      "  H_vec = (Q_vec/(Ks_vec*B*np.sqrt((Zm_vec-Zv_vec)/L)))**(3/5)\n"
     ]
    },
    {
     "name": "stdout",
     "output_type": "stream",
     "text": [
      "[117040.39549999998, 72997.999, 42772.933000000005, 42772.933000000005, 16631.888499999997, 8441.7995, 5862.4175, 5300.2445, 4693.9794999999995, 4049.134, 3850.7200000000003, 3646.7945, 3630.26]\n"
     ]
    },
    {
     "data": {
      "text/plain": [
       "[<matplotlib.lines.Line2D at 0x23e51627820>,\n",
       " <matplotlib.lines.Line2D at 0x23e516278e0>,\n",
       " <matplotlib.lines.Line2D at 0x23e516279a0>]"
      ]
     },
     "execution_count": 3,
     "metadata": {},
     "output_type": "execute_result"
    },
    {
     "data": {
      "image/png": "[encoded data removed]",
      "text/plain": [
       "<Figure size 432x288 with 1 Axes>"
      ]
     },
     "metadata": {
      "needs_background": "light"
     },
     "output_type": "display_data"
    }
   ],
   "source": [
    "import numpy as np\n",
    "import matplotlib.pyplot as plt\n",
    "import scipy.stats as stat\n",
    "import pandas as pd\n",
    "\n",
    "L_H=[(0.1,100,1),(0.5,150,1.5),(1,225,2.25),(1,1034,10.34),(2,4750,47.5),(3,11023,110.23),(4,16971,169.71),(5,21692,216.92),(6,26509,265.09),(7,31408,314.08),(8,36377,363.77),(9,41409,414.09),(10,46498,464.98)] #h_d;C_i;C_m\n",
    "L_S=[(-100,-0.1,0,0),(-0.1,0,0,0.1),(0,0.5,150,0.5),(0.5,1,1500,1),(1,1.5,2000,1),(1.5,100,2000,1)]# S_min;S_max;C_s;C_g-percentage\n",
    "# Constants\n",
    "L = 5000    # Length of section (m)\n",
    "B = 300     # Watercourse width (m)\n",
    "Zb = 55.5  # Shoreline elevation (m NGF)\n",
    "\n",
    "# Simulation parameters \n",
    "vec_size = 100000                # Points to generate\n",
    "\n",
    "mode_Q, scale_Q = 1013, 558 # Q law (Gumbel)\n",
    "exp_K, std_K = 30, 7.5      # Ks law (Gaussian)\n",
    "exp_Zv, hr_Zv = 50, 1       # Zv law (Triangular)\n",
    "exp_Zm, hr_Zm = 55, 1       # Zm law (Triangular)\n",
    "\n",
    "# Generate random variables vectors\n",
    "Q_vec = stat.gumbel_r.rvs(loc=mode_Q, scale=scale_Q, size=vec_size)\n",
    "Ks_vec = stat.norm.rvs(loc=exp_K, scale=std_K, size=vec_size)\n",
    "Zv_vec = stat.triang.rvs(c=1/2, loc=exp_Zv-hr_Zv, scale=2*hr_Zv, size=vec_size)\n",
    "Zm_vec = stat.triang.rvs(c=1/2, loc=exp_Zm-hr_Zm, scale=2*hr_Zm, size=vec_size)\n",
    "H_vec = (Q_vec/(Ks_vec*B*np.sqrt((Zm_vec-Zv_vec)/L)))**(3/5)\n",
    "S = Zv_vec + H_vec - Zb\n",
    "\n",
    "L_C=[]\n",
    "\n",
    "for i in range(len(L_H)):\n",
    "    S1=S-L_H[i][0]\n",
    "    Sc=[0,0,0,0,0,0]\n",
    "    for j in range(len(S1)):\n",
    "        for k in range(len(L_S)):\n",
    "            if S1[j]<L_S[k][1] and S1[j]>L_S[k][0]:\n",
    "                Sc[k]+=1\n",
    "                break\n",
    "    for i in range(len(Sc)):\n",
    "        Sc[i]=Sc[i]/vec_size\n",
    "    C=0\n",
    "    for j in range(len(L_S)):\n",
    "        C+=L_S[j][1]+L_H[i][1]*L_S[j][2]*Sc[j]\n",
    "        C+=(L_H[i][1]+30*L_H[i][2])/30\n",
    "    L_C+=[C]\n",
    "print(L_C)\n",
    "\n",
    "plt.plot(L_H,L_C)"
   ]
  }
 ],
 "metadata": {
  "interpreter": {
   "hash": "6d6cd28a1409b1ae053e730369165ea5bced208f1aff58a7f97e1e546e5a4fdd"
  },
  "kernelspec": {
   "display_name": "Python 3.8.8 ('base')",
   "language": "python",
   "name": "python3"
  },
  "language_info": {
   "codemirror_mode": {
    "name": "ipython",
    "version": 3
   },
   "file_extension": ".py",
   "mimetype": "text/x-python",
   "name": "python",
   "nbconvert_exporter": "python",
   "pygments_lexer": "ipython3",
   "version": "3.8.8"
  },
  "orig_nbformat": 4
 },
 "nbformat": 4,
 "nbformat_minor": 2
}
