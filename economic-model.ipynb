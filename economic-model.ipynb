{
 "cells": [
  {
   "cell_type": "markdown",
   "metadata": {},
   "source": [
    "## Part III : Economic Model\n",
    "In this part we have access to overflow damage costs,investment costs and maintenance costs. The goal being to minimize $C_{c,mean}=\\frac {C_{c}} {T}$ where T is the duration over which the problem is studied and \n",
    "$$C_{c}=C_{i}(h_d)+TC_m(h_d)+\\sum_{j=1}^{T} (C_s(S_j)+C_g(S_j,h_d))$$\n"
   ]
  },
  {
   "cell_type": "code",
   "execution_count": 1,
   "metadata": {},
   "outputs": [
    {
     "data": {
      "text/plain": [
       "[<matplotlib.lines.Line2D at 0x23760293310>]"
      ]
     },
     "execution_count": 1,
     "metadata": {},
     "output_type": "execute_result"
    },
    {
     "data": {
      "image/png": "[encoded data removed]",
      "text/plain": [
       "<Figure size 432x288 with 1 Axes>"
      ]
     },
     "metadata": {
      "needs_background": "light"
     },
     "output_type": "display_data"
    }
   ],
   "source": [
    "import numpy as np\n",
    "import matplotlib.pyplot as plt\n",
    "import scipy.stats as stat\n",
    "\n",
    "#values used for costs\n",
    "L_H=[(0.1,100,1),(0.5,150,1.5),(1,225,2.25),(1,1034,10.34),(2,4750,47.5),(3,11023,110.23),(4,16971,169.71),(5,21692,216.92),(6,26509,265.09),(7,31408,314.08),(8,36377,363.77),(9,41409,414.09),(10,46498,464.98)] #h_d;C_i;C_m\n",
    "L_S=[(-100,-0.1,0,0),(-0.1,0,0,0.1),(0,0.5,150000,0.5),(0.5,1,1500000,1),(1,1.5,2000000,1),(1.5,100,2000000,1)]# S_min;S_max;C_s;C_g-percentage\n",
    "\n",
    "# Constants\n",
    "L = 5000    # Length of section (m)\n",
    "B = 300     # Watercourse width (m)\n",
    "Zb = 55.5  # Shoreline elevation (m NGF)\n",
    "T=30        # Considered time span\n",
    "\n",
    "# Simulation parameters \n",
    "vec_size = 100000                # Points to generate\n",
    "mode_Q, scale_Q = 1013, 558 # Q law (Gumbel)\n",
    "exp_K, std_K = 30, 7.5      # Ks law (Gaussian)\n",
    "exp_Zv, hr_Zv = 50, 1       # Zv law (Triangular)\n",
    "exp_Zm, hr_Zm = 55, 1       # Zm law (Triangular)\n",
    "\n",
    "# Generate random variables vectors\n",
    "Q_vec = stat.gumbel_r.rvs(loc=mode_Q, scale=scale_Q, size=vec_size)\n",
    "Ks_vec = stat.norm.rvs(loc=exp_K, scale=std_K, size=vec_size)\n",
    "Zv_vec = stat.triang.rvs(c=1/2, loc=exp_Zv-hr_Zv, scale=2*hr_Zv, size=vec_size)\n",
    "Zm_vec = stat.triang.rvs(c=1/2, loc=exp_Zm-hr_Zm, scale=2*hr_Zm, size=vec_size)\n",
    "\n",
    "to_remove_ind = [] # List of indexes that violate positivity criteria\n",
    "for i in range(len(Q_vec)):\n",
    "\n",
    "    if Q_vec[i]<=0:\n",
    "        to_remove_ind.append(i)\n",
    "    if Ks_vec[i]<=1:\n",
    "        to_remove_ind.append(i)\n",
    "to_remove_ind = np.array(to_remove_ind)\n",
    "\n",
    "# Removing these indices from the dataset\n",
    "Q_vec = np.delete(Q_vec, to_remove_ind)\n",
    "Ks_vec = np.delete(Ks_vec, to_remove_ind)\n",
    "Zv_vec = np.delete(Zv_vec, to_remove_ind)\n",
    "Zm_vec = np.delete(Zm_vec, to_remove_ind)\n",
    "H_vec = (Q_vec/(Ks_vec*B*np.sqrt((Zm_vec-Zv_vec)/L)))**(3/5)\n",
    "S = Zv_vec + H_vec - Zb\n",
    "\n",
    "H=[]        #list of suggested heights\n",
    "L_C=[]      #list of costs\n",
    "\n",
    "for i in range(len(L_H)):\n",
    "    H+=[L_H[i][0]]\n",
    "    S1=S-L_H[i][0]  #Overflow in relation to the dike\n",
    "    Sc=[0,0,0,0,0,0]   #empirical density\n",
    "    for j in range(len(S1)): #histogram construction\n",
    "        for k in range(len(L_S)):\n",
    "            if S1[j]<L_S[k][1] and S1[j]>L_S[k][0]:\n",
    "                Sc[k]+=1\n",
    "                break\n",
    "    for k in range(len(Sc)): #normalization\n",
    "        Sc[k]=Sc[k]/vec_size\n",
    "    C=0                     #cost\n",
    "    for j in range(len(L_S)):\n",
    "        C+=(L_S[j][2]+L_H[i][1]*L_S[j][3])*T*Sc[j] # adding the cost that depends on the overflow S according to its density\n",
    "    C+=(L_H[i][1]+T*L_H[i][2]) #adding the total cost of investment and maintenance accumulated over T with no regards to damage\n",
    "    C=C/T   #mean cost over T\n",
    "    L_C+=[C]\n",
    "\n",
    "plt.plot(H,L_C)"
   ]
  }
 ],
 "metadata": {
  "interpreter": {
   "hash": "dfbe69d09349a49120ff36b7a9d7a3d6297f4f930536f8fd166c745a423a6004"
  },
  "kernelspec": {
   "display_name": "Python 3.8.8 ('base')",
   "language": "python",
   "name": "python3"
  },
  "language_info": {
   "codemirror_mode": {
    "name": "ipython",
    "version": 3
   },
   "file_extension": ".py",
   "mimetype": "text/x-python",
   "name": "python",
   "nbconvert_exporter": "python",
   "pygments_lexer": "ipython3",
   "version": "3.8.8"
  },
  "orig_nbformat": 4
 },
 "nbformat": 4,
 "nbformat_minor": 2
}
