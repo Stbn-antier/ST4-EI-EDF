{
 "cells": [
  {
   "cell_type": "code",
   "execution_count": 68,
   "metadata": {},
   "outputs": [],
   "source": [
    "import numpy as np\n",
    "import matplotlib.pyplot as plt\n",
    "import scipy.stats as stat\n",
    "from scipy.interpolate import interp1d\n",
    "from scipy.optimize import minimize"
   ]
  },
  {
   "cell_type": "code",
   "execution_count": 69,
   "metadata": {},
   "outputs": [],
   "source": [
    "h_data = [0, 0.1, 0.5, 1, 2, 3, 4, 5, 6, 7, 8, 9, 10]\n",
    "Ci_data = [0, 100, 225, 1034, 4750, 11023, 16971, 21692, 26509, 31408, 36377, 41409, 46498]\n",
    "\n",
    "Ci_func = interp1d(h_data, Ci_data)"
   ]
  },
  {
   "cell_type": "code",
   "execution_count": 70,
   "metadata": {},
   "outputs": [],
   "source": [
    "S_data = [-100, -0.1, 0, 0.5, 1, 1.5, 2, 100]\n",
    "Cs_data = [0, 0, 0, 150, 1500, 2000, 2000, 2000]\n",
    "Cg_data = [0, 0, 0.1, 0.5, 1, 1, 1, 1]\n",
    "\n",
    "Cs_func = interp1d(S_data, Cs_data)\n",
    "Cg_func = interp1d(S_data, Cg_data)"
   ]
  },
  {
   "cell_type": "markdown",
   "metadata": {},
   "source": [
    "Generate the laws for determining that of $C_d$"
   ]
  },
  {
   "cell_type": "code",
   "execution_count": 71,
   "metadata": {},
   "outputs": [],
   "source": [
    "# Constants\n",
    "L = 5000    # Length of section (m)\n",
    "B = 300     # Watercourse width (m)\n",
    "Zb = 55.5  # Shoreline elevation (m NGF)\n",
    "\n",
    "# Simulation parameters \n",
    "vec_size = 100000                # Points to generate\n",
    "\n",
    "mode_Q, scale_Q = 1013, 558 # Q law (Gumbel)\n",
    "exp_K, std_K = 30, 7.5      # Ks law (Gaussian)\n",
    "exp_Zv, hr_Zv = 50, 1       # Zv law (Triangular)\n",
    "exp_Zm, hr_Zm = 55, 1       # Zm law (Triangular)\n",
    "\n",
    "# Generate random variables vectors of size vec_size\n",
    "Q_vec = stat.gumbel_r.rvs(loc=mode_Q, scale=scale_Q, size=vec_size)\n",
    "Ks_vec = stat.norm.rvs(loc=exp_K, scale=std_K, size=vec_size)\n",
    "Zv_vec = stat.triang.rvs(c=1/2, loc=exp_Zv-hr_Zv, scale=2*hr_Zv, size=vec_size)\n",
    "Zm_vec = stat.triang.rvs(c=1/2, loc=exp_Zm-hr_Zm, scale=2*hr_Zm, size=vec_size)\n",
    "\n",
    "to_remove_ind = [] # List of indexes that violate positivity criteria\n",
    "for i in range(len(Q_vec)):\n",
    "    if Q_vec[i]<=0:\n",
    "        to_remove_ind.append(i)\n",
    "    if Ks_vec[i]<=1:\n",
    "        to_remove_ind.append(i)\n",
    "to_remove_ind = np.array(to_remove_ind)\n",
    "\n",
    "# Removing these indices from the dataset\n",
    "Q_vec = np.delete(Q_vec, to_remove_ind)\n",
    "Ks_vec = np.delete(Ks_vec, to_remove_ind)\n",
    "Zv_vec = np.delete(Zv_vec, to_remove_ind)\n",
    "Zm_vec = np.delete(Zm_vec, to_remove_ind)\n",
    "\n",
    "H_vec = (Q_vec/(Ks_vec*B*np.sqrt((Zm_vec-Zv_vec)/L)))**(3/5)\n",
    "S = Zv_vec + H_vec - Zb"
   ]
  },
  {
   "cell_type": "code",
   "execution_count": 72,
   "metadata": {},
   "outputs": [],
   "source": [
    "def total_cost(h, T, S):\n",
    "    \"\"\"\n",
    "    h (float): Height of the dike in m\n",
    "    T (int): Time interval for cost calculation in years\n",
    "    S (array): Observations of the law of S s.t h=0\n",
    "    Returns the expected total mean cost for the dike (in M€)\n",
    "    \"\"\"\n",
    "    # Investment and maintenance cost\n",
    "    Ci = Ci_func(h)/1000 # Conversion to M€\n",
    "    Ct = (1+T/100)*Ci\n",
    "\n",
    "    # Cost of damage distribution\n",
    "    S_truth = S - h\n",
    "    Cs = Cs_func(S_truth)\n",
    "    Cg = Cg_func(S_truth)\n",
    "    Cd = Cs + Cg*Ci\n",
    "\n",
    "    # Expected mean cost\n",
    "    Cc_m = Ct/T + np.mean(Cd)\n",
    "    return Cc_m"
   ]
  },
  {
   "cell_type": "code",
   "execution_count": 73,
   "metadata": {},
   "outputs": [
    {
     "data": {
      "image/png": "[encoded data removed]",
      "text/plain": [
       "<Figure size 432x288 with 1 Axes>"
      ]
     },
     "metadata": {
      "needs_background": "light"
     },
     "output_type": "display_data"
    },
    {
     "name": "stdout",
     "output_type": "stream",
     "text": [
      "[3.15253796]\n"
     ]
    }
   ],
   "source": [
    "h_d = np.linspace(0, 10, 1000) #Test with 100 dike heights between 0 and 5 meters\n",
    "T = 30 # Time for the cost calculation, here 30 years\n",
    "\n",
    "Cc_mean = np.array([total_cost(h, T, S) for h in h_d])\n",
    "\n",
    "plt.figure()\n",
    "plt.plot(h_d, Cc_mean)\n",
    "plt.show()\n",
    "\n",
    "def cost_h(h):\n",
    "    return total_cost(h, T, S)\n",
    "res = minimize(cost_h, 1)\n",
    "print(res['x'])"
   ]
  }
 ],
 "metadata": {
  "interpreter": {
   "hash": "dfbe69d09349a49120ff36b7a9d7a3d6297f4f930536f8fd166c745a423a6004"
  },
  "kernelspec": {
   "display_name": "Python 3.8.8 ('base')",
   "language": "python",
   "name": "python3"
  },
  "language_info": {
   "codemirror_mode": {
    "name": "ipython",
    "version": 3
   },
   "file_extension": ".py",
   "mimetype": "text/x-python",
   "name": "python",
   "nbconvert_exporter": "python",
   "pygments_lexer": "ipython3",
   "version": "3.8.8"
  },
  "orig_nbformat": 4
 },
 "nbformat": 4,
 "nbformat_minor": 2
}
