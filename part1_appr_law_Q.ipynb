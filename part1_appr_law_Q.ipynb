{
 "cells": [
  {
   "cell_type": "markdown",
   "metadata": {},
   "source": [
    "In accordance with the assumptions of the statement, we can approximate the law Q by a Gumbel law whose density is given by :\n",
    "\n",
    "$$f_{(\\beta,\\mu)}(x) = \\frac{z\\exp(-z)}{\\beta}$$\n",
    " where $z = exp(-\\frac{x-\\mu}{\\beta})$\n",
    " \n",
    "The objective of this part is the estimation of the parameters $\\beta$ and $\\mu$.\n",
    "\n",
    "## Estimation by moments of order 1 and 2\n",
    "\n",
    "$$ \\mathbb{E}[X] = \\mu + \\beta \\gamma $$ \n",
    "$$\\mathbb{V}[X] = \\mathbb[]\n",
    "where \n",
    "\n"
   ]
  }
 ],
 "metadata": {
  "language_info": {
   "name": "python"
  },
  "orig_nbformat": 4
 },
 "nbformat": 4,
 "nbformat_minor": 2
}
