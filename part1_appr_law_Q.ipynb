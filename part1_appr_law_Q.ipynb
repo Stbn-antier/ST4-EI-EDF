{
 "cells": [
  {
   "cell_type": "markdown",
   "metadata": {},
   "source": [
    "In accordance with the assumptions of the statement, we can approximate the law Q by a Gumbel law whose density is given by :\n",
    "\n",
    "$$f_{(\\beta,\\mu)}(x) = \\frac{z\\exp(-z)}{\\beta}$$\n",
    " where $z = exp(-\\frac{x-\\mu}{\\beta})$\n",
    " \n",
    "The objective of this part is the estimation of the parameters $\\beta$ and $\\mu$.\n",
    "\n",
    "## Estimation by moments of order 1 and 2\n",
    "\n",
    "$$ \\mathbb{E}[X] = \\mu + \\beta \\gamma $$ \n",
    "$$\\mathbb{V}[X] = \\mathbb{E}[X^2] - (\\mathbb{E}[X])^2 = \\frac{\\pi^2 }\n",
    "where \n",
    "\n"
   ]
  },
  {
   "cell_type": "code",
   "execution_count": null,
   "metadata": {},
   "outputs": [],
   "source": [
    "import numpy as np\n",
    "import matplotlib.pyplot as plt\n",
    "import scipy.stats as stat\n",
    "import pandas as pd\n",
    "\n",
    "\n",
    "dh = pd.read_excel (r'Historical data completed.xlsx')\n",
    "df = pd.read_excel (r'Données-projet-EDF_2018-2019 .xlsx')\n",
    "\n",
    "Y, X= df['Hauteur associée mesurée (en m)'] ,df['Débit mesuré maximal annuel (en m3/s)']\n",
    "\n",
    "n=149\n",
    "Qm1= np.sum(X) /n\n",
    "Qm2= np.sum(X**2) /n\n",
    "gamma = 0.5772156649\n",
    "\n",
    "Beta= 1/np.pi * np.sqrt(6*(Qm2 - Qm1**2))\n",
    "Mu= Qm1 - gamma * Beta\n",
    "\n",
    "print(Mu)\n",
    "print(Beta)\n",
    "\n",
    "q=stat.gumbel_r.ppf(0.999,1015,554)\n",
    "calc=0.0548*q**0.6\n",
    "print(calc-5.5)"
   ]
  }
 ],
 "metadata": {
  "language_info": {
   "name": "python"
  },
  "orig_nbformat": 4
 },
 "nbformat": 4,
 "nbformat_minor": 2
}
