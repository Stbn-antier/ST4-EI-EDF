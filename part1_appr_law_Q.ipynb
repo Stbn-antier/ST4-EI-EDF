{
 "cells": [
  {
   "cell_type": "markdown",
   "metadata": {},
   "source": [
    "In accordance with the assumptions of the statement, we can approximate the law Q by a Gumbel law whose density is given by :\n",
    "\n",
    "$$f_{(\\beta,\\mu)}(x) = \\frac{z\\exp(-z)}{\\beta}$$\n",
    " where $z = exp(-\\frac{x-\\mu}{\\beta})$\n",
    " \n",
    "The objective of this part is the estimation of the parameters $\\beta$ and $\\mu$.\n",
    "\n",
    "## Estimation by moments of order 1 and 2\n",
    "\n",
    "$$ \\mathbb{E}[Q] = \\mu + \\beta \\gamma $$ \n",
    "$$\\mathbb{V}[Q] = \\mathbb{E}[Q^2] - (\\mathbb{E}[Q])^2 = \\frac{\\pi^2 \\beta^2}{6}$$\n",
    "where $\\gamma$ Euler's constant.\n",
    "\n",
    "\n"
   ]
  },
  {
   "cell_type": "code",
   "execution_count": 1,
   "metadata": {},
   "outputs": [
    {
     "name": "stdout",
     "output_type": "stream",
     "text": [
      "1015.1949104700277\n",
      "554.7753149181323\n",
      "3.4078919699870074\n"
     ]
    }
   ],
   "source": [
    "import numpy as np\n",
    "import matplotlib.pyplot as plt\n",
    "import scipy.stats as stat\n",
    "import pandas as pd\n",
    "\n",
    "\n",
    "dh = pd.read_excel (r'Historical data completed.xlsx')\n",
    "df = pd.read_excel (r'Données-projet-EDF_2018-2019 .xlsx')\n",
    "\n",
    "Y, X= df['Hauteur associée mesurée (en m)'] ,df['Débit mesuré maximal annuel (en m3/s)']\n",
    "\n",
    "n=149\n",
    "Qm1= np.sum(X) /n\n",
    "Qm2= np.sum(X**2) /n\n",
    "gamma = 0.5772156649\n",
    "\n",
    "Beta= 1/np.pi * np.sqrt(6*(Qm2 - Qm1**2))\n",
    "Mu= Qm1 - gamma * Beta\n",
    "\n",
    "print(Mu)\n",
    "print(Beta)\n",
    "\n",
    "q=stat.gumbel_r.ppf(0.999,1015,554)\n",
    "calc=0.0548*q**0.6\n",
    "print(calc-5.5)"
   ]
  }
 ],
 "metadata": {
  "interpreter": {
   "hash": "9c580feccac8bd5720b1a67ebe1213767b20cc14ed6eeb18294965724ed96fb6"
  },
  "kernelspec": {
   "display_name": "Python 3.9.7 ('base')",
   "language": "python",
   "name": "python3"
  },
  "language_info": {
   "codemirror_mode": {
    "name": "ipython",
    "version": 3
   },
   "file_extension": ".py",
   "mimetype": "text/x-python",
   "name": "python",
   "nbconvert_exporter": "python",
   "pygments_lexer": "ipython3",
   "version": "3.9.7"
  },
  "orig_nbformat": 4
 },
 "nbformat": 4,
 "nbformat_minor": 2
}
