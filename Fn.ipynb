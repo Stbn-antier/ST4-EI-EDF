{
 "cells": [
  {
   "cell_type": "code",
   "execution_count": 3,
   "metadata": {},
   "outputs": [
    {
     "ename": "ModuleNotFoundError",
     "evalue": "No module named 'numpy'",
     "output_type": "error",
     "traceback": [
      "\u001b[1;31m---------------------------------------------------------------------------\u001b[0m",
      "\u001b[1;31mModuleNotFoundError\u001b[0m                       Traceback (most recent call last)",
      "\u001b[1;32mc:\\Users\\Pierre Pallot-Lange\\Documents\\ST4-EI-EDF\\Fn.ipynb Cell 1'\u001b[0m in \u001b[0;36m<cell line: 1>\u001b[1;34m()\u001b[0m\n\u001b[1;32m----> <a href='vscode-notebook-cell:/c%3A/Users/Pierre%20Pallot-Lange/Documents/ST4-EI-EDF/Fn.ipynb#ch0000006?line=0'>1</a>\u001b[0m \u001b[39mimport\u001b[39;00m \u001b[39mnumpy\u001b[39;00m \u001b[39mas\u001b[39;00m \u001b[39mnp\u001b[39;00m\n\u001b[0;32m      <a href='vscode-notebook-cell:/c%3A/Users/Pierre%20Pallot-Lange/Documents/ST4-EI-EDF/Fn.ipynb#ch0000006?line=1'>2</a>\u001b[0m \u001b[39mimport\u001b[39;00m \u001b[39mmatplotlib\u001b[39;00m\u001b[39m.\u001b[39;00m\u001b[39mpyplot\u001b[39;00m \u001b[39mas\u001b[39;00m \u001b[39mplt\u001b[39;00m\n\u001b[0;32m      <a href='vscode-notebook-cell:/c%3A/Users/Pierre%20Pallot-Lange/Documents/ST4-EI-EDF/Fn.ipynb#ch0000006?line=2'>3</a>\u001b[0m \u001b[39mimport\u001b[39;00m \u001b[39mscipy\u001b[39;00m\u001b[39m.\u001b[39;00m\u001b[39mstats\u001b[39;00m \u001b[39mas\u001b[39;00m \u001b[39mstat\u001b[39;00m\n",
      "\u001b[1;31mModuleNotFoundError\u001b[0m: No module named 'numpy'"
     ]
    }
   ],
   "source": [
    "import numpy as np\n",
    "import matplotlib.pyplot as plt\n",
    "import scipy.stats as stat\n",
    "import pandas as pd"
   ]
  },
  {
   "cell_type": "markdown",
   "metadata": {},
   "source": [
    "## I. DETERMINATION OF THE DIKE HEIGHT FROM HISTORICAL MEASUREMENTS\n",
    "\n",
    "We focus on the level of water $H$ in function of the flow $Q$ of a river. \n",
    "Our goal is to build a dike to limit accidents caused by floods.  \n",
    "We used an historical set of data measured from 1849 to 1997. \n",
    "HOwever the historical data we received had blank parts. Therefore, to take advantage of all the data we had, we needed to complete these parts.  \n",
    "First, we searched a model for the data wich was complete."
   ]
  },
  {
   "cell_type": "code",
   "execution_count": null,
   "metadata": {},
   "outputs": [],
   "source": [
    "dh = pd.read_excel (r'Historical data completed.xlsx')\n",
    "df = pd.read_excel (r'Données-projet-EDF_2018-2019 .xlsx')\n",
    "\n",
    "\n",
    "Y, X= df['Hauteur associée mesurée (en m)'] ,df['Débit mesuré maximal annuel (en m3/s)']\n",
    "\n",
    "L=[]\n",
    "for i in range(len(Y)) :\n",
    "  if np.isnan(Y[i]):\n",
    "    L.append(i) \n",
    "\n",
    "\n",
    "X=np.delete(X.to_numpy(),L)\n",
    "Y=np.delete(Y.to_numpy(),L)\n",
    "\n",
    "X1,Y1= np.log(X), np.log(Y)\n",
    "\n",
    "P = np.polyfit(X1,Y1,1)\n",
    "P[1]=np.exp(P[1])\n",
    "X2=np.sort(X)\n",
    "Z= P[1] * X2**P[0]\n",
    "print(P)\n",
    "plt.figure()\n",
    "plt.plot(X2,Z,'r',label='h={a:.4f}*Q^{b:.4f}'.format(a=P[1], b=P[0]))\n",
    "plt.scatter(X,Y,marker='+')\n",
    "plt.xlabel(r'Water flow $Q$($m^3/s$)')\n",
    "plt.ylabel(r'Water level $H$($m$)')\n",
    "plt.legend()\n",
    "plt.show"
   ]
  },
  {
   "cell_type": "markdown",
   "metadata": {},
   "source": [
    "After printed it we obtained the law by regression: \n",
    "\n",
    "$$ H = 0.0548 * Q ^ {\\ 0.5991} $$\n",
    "\n",
    "With this model, we were able to complete the missing data.  \n",
    "\n",
    "In second, we used this data to create the CDF :  \n",
    "We considered $H_{1}$, $H_{2}$, ...,$H_{n}$, the maxima heights of water during 1 year\n",
    "\n",
    "$$ F_{n}(x)=\\frac{\\sum_{i=1}^{n}{1_{H_{i}\\leq x}}}{n}$$"
   ]
  }
 ],
 "metadata": {
  "interpreter": {
   "hash": "c2942d735e446e7987717f41a94c84e0a3d408e20b1f7756bf1ff5316a777ca6"
  },
  "kernelspec": {
   "display_name": "Python 3.9.8 64-bit",
   "language": "python",
   "name": "python3"
  },
  "language_info": {
   "codemirror_mode": {
    "name": "ipython",
    "version": 3
   },
   "file_extension": ".py",
   "mimetype": "text/x-python",
   "name": "python",
   "nbconvert_exporter": "python",
   "pygments_lexer": "ipython3",
   "version": "3.9.8"
  },
  "orig_nbformat": 4
 },
 "nbformat": 4,
 "nbformat_minor": 2
}
