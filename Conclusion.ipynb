{
 "cells": [
  {
   "cell_type": "markdown",
   "metadata": {},
   "source": [
    "We will now compare the resultes of the different studies for the size of the dike :\n",
    "\n",
    "We have choosen a quantile of 1-0.001 for the first and second part that represents a risk of occurence of 0.03 for the next 30 years. This quantile is necessary if we consider an important industrial site near the river, such as an important industrial complexe or a power plant.\n",
    "\n",
    "We obtain the following results : \n",
    "\n",
    "- Part 1 : $h_{d} = 3.41 m$\n",
    "\n",
    "- Part 2 : $h_{d} ∈ [1.81 ; 2.17]$  at 95%\n",
    "\n",
    "- Part 3 : $h_{d} ∈ [2.81 ; 4.45]$ at 95%\n",
    "\n",
    "Each result was obtained by finding the optimum results for each situation. Therefore, if we want to consider only one criteria, we will take the results of the corresponding studies.  \n",
    "And if we want to consider all parts, as a 3 meters wall has a better faculty to resist than a 2 meters one, we should take a wall in the interval of the highest value and thus here, we should take a 3.4 meters wall.\n"
   ]
  }
 ],
 "metadata": {
  "language_info": {
   "name": "python"
  },
  "orig_nbformat": 4
 },
 "nbformat": 4,
 "nbformat_minor": 2
}
