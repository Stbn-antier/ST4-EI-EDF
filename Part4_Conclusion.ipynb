{
 "cells": [
  {
   "cell_type": "markdown",
   "metadata": {},
   "source": [
    "We will now compare the results of the different studies for the size of the dike :\n",
    "\n",
    "We have choosen a quantile for the water level H or the water flow Q of 1- 0.001 for the first and second part that represents a risk of occurence of 0.03 for the next 30 years. This quantile is necessary if we consider an important industrial site near the river, such as an industrial complex or a power plant.\n",
    "\n",
    "We obtain the following results : \n",
    "\n",
    "- Part 1 : $h_{d} = 3.41 m$\n",
    "\n",
    "- Part 2 : $h_{d}=1.98\\ m \\ \\ \\ h_{d} ∈ [1.81 ; 2.17]$  at 95%\n",
    "\n",
    "- Part 3 : $h_{d}=3.50\\ m \\ \\ \\ h_{d} ∈ [2.81 ; 4.45]$ at 95%\n",
    "\n",
    "Each result was obtained by finding the optimum results for each situation. Therefore, if we want to consider only one criteria, we will take the results of the corresponding studies. Indeed, all of them seems coherent with reality considering the situation.\n",
    "And if we want to consider all parts, as a 3 meters wall has a better ability to resist than a 2 meters one, we should take a wall in the interval of the highest value and thus here, we should take a 3.4 meters wall.  \n"
   ]
  },
  {
   "cell_type": "code",
   "execution_count": 1,
   "metadata": {},
   "outputs": [
    {
     "data": {
      "image/png": "[encoded data removed]",
      "text/plain": [
       "<Figure size 720x360 with 1 Axes>"
      ]
     },
     "metadata": {
      "needs_background": "light"
     },
     "output_type": "display_data"
    }
   ],
   "source": [
    "import matplotlib.pyplot as plt\n",
    "\n",
    "hd = [3.14, 1.98, 3.50]\n",
    "confid2 = [1.80, 2.16]\n",
    "confid3 = [2.82, 4.51]\n",
    "\n",
    "def plot_confidence(confid, mean, scenar, line_width=0.25):\n",
    "    \n",
    "    bottom = scenar - line_width/2\n",
    "    top = scenar + line_width/2\n",
    "\n",
    "    plt.plot(confid, [scenar, scenar], \"b\", linewidth=3)\n",
    "    plt.plot([confid[0], confid[0]], [bottom, top], \"b\", linewidth=3)\n",
    "    plt.plot([confid[1], confid[1]], [bottom, top], \"b\", linewidth=3)\n",
    "    plt.plot(mean, scenar, \"ro\", markersize=10)\n",
    "\n",
    "plt.figure(figsize=(10,5))\n",
    "plt.yticks([3, 2, 1], ['Historical', 'Physical', 'Economic'])\n",
    "plt.plot(hd[0], 3, \"ro\", markersize=10)\n",
    "plot_confidence(confid2, hd[1], 2)\n",
    "plot_confidence(confid3, hd[2], 1)\n",
    "plt.xlabel(r\"Dike height $h_d$ ($m$)\")\n",
    "plt.show()"
   ]
  },
  {
   "cell_type": "markdown",
   "metadata": {},
   "source": [
    "If we want to respect the ASN's criteria we need to increase by 15% $h_{d}$ of part 1 and 2. Results are :\n",
    "\n",
    "- Part 1 : $h_{d} = 3.92 m$\n",
    "\n",
    "- Part 2 : $h_{d}=2.28\\ m \\ \\ \\ h_{d} ∈ [1.81 ; 2.17]$  at 95%\n",
    "\n",
    "- Part 3 : $h_{d}=3.50\\ m \\ \\ \\ h_{d} ∈ [2.81 ; 4.45]$ at 95%"
   ]
  },
  {
   "cell_type": "code",
   "execution_count": 2,
   "metadata": {},
   "outputs": [
    {
     "data": {
      "image/png": "[encoded data removed]",
      "text/plain": [
       "<Figure size 720x360 with 1 Axes>"
      ]
     },
     "metadata": {
      "needs_background": "light"
     },
     "output_type": "display_data"
    }
   ],
   "source": [
    "hd = [3.92, 2.28, 3.50]\n",
    "confid2 = [2.07, 2.48]\n",
    "confid3 = [2.82, 4.51]\n",
    "\n",
    "def plot_confidence(confid, mean, scenar, line_width=0.25):\n",
    "    \n",
    "    bottom = scenar - line_width/2\n",
    "    top = scenar + line_width/2\n",
    "\n",
    "    plt.plot(confid, [scenar, scenar], \"b\", linewidth=3)\n",
    "    plt.plot([confid[0], confid[0]], [bottom, top], \"b\", linewidth=3)\n",
    "    plt.plot([confid[1], confid[1]], [bottom, top], \"b\", linewidth=3)\n",
    "    plt.plot(mean, scenar, \"ro\", markersize=10)\n",
    "\n",
    "plt.figure(figsize=(10,5))\n",
    "plt.yticks([3, 2, 1], ['Historical', 'Physical', 'Economic'])\n",
    "plt.plot(hd[0], 3, \"ro\", markersize=10)\n",
    "plot_confidence(confid2, hd[1], 2)\n",
    "plot_confidence(confid3, hd[2], 1)\n",
    "plt.xlabel(r\"Dike height $h_d$ ($m$)\")\n",
    "plt.show()"
   ]
  }
 ],
 "metadata": {
  "interpreter": {
   "hash": "dfbe69d09349a49120ff36b7a9d7a3d6297f4f930536f8fd166c745a423a6004"
  },
  "kernelspec": {
   "display_name": "Python 3.8.8 ('base')",
   "language": "python",
   "name": "python3"
  },
  "language_info": {
   "codemirror_mode": {
    "name": "ipython",
    "version": 3
   },
   "file_extension": ".py",
   "mimetype": "text/x-python",
   "name": "python",
   "nbconvert_exporter": "python",
   "pygments_lexer": "ipython3",
   "version": "3.8.8"
  },
  "orig_nbformat": 4
 },
 "nbformat": 4,
 "nbformat_minor": 2
}
