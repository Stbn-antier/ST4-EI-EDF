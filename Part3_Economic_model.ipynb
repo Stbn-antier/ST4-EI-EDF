{
 "cells": [
  {
   "cell_type": "code",
   "execution_count": 9,
   "metadata": {},
   "outputs": [],
   "source": [
    "import numpy as np\n",
    "import matplotlib.pyplot as plt\n",
    "import scipy.stats as stat\n",
    "from scipy.interpolate import interp1d\n",
    "from scipy.optimize import minimize"
   ]
  },
  {
   "cell_type": "markdown",
   "metadata": {},
   "source": [
    "## Part III : Economic model for dike cost and economic loss"
   ]
  },
  {
   "cell_type": "markdown",
   "metadata": {},
   "source": [
    "Here we are given various data points for cost functions so that we can choose $h_d$ to minimize the total cost of the dike over its lifetime $T$.\n",
    "\n",
    "First we consider the construction and maintenance cost of the dike $C_t$ given by :\n",
    "$$ C_t = C_i(h_d) + T C_m(h_d) $$\n",
    "Where $C_i(h_d)$ is the investment cost given in a table, $C_m$ the maintenance cost equal to $1\\%$ of $C_i$\n",
    "\n",
    "Then we have the annual cost of damage $C_d$, given by :\n",
    "$$ C_d = C_s(S) + C_g(S) $$\n",
    "Both values for $C_s$ and $C_g$ are tabulated in relation to the overflow height. We can see that $C_d$ is a random variable, as it is a function of the random variable $S$.\n",
    "\n",
    "We want to minimize the mean annual cost of the plant over its lifetime $T$:\n",
    "$$ C_{c,mean} = \\frac{ C_t + \\sum_i C_{d,i} }{T} $$"
   ]
  },
  {
   "cell_type": "markdown",
   "metadata": {},
   "source": [
    "### 1 : Interpolate our tabulated values to a linear by part cost function"
   ]
  },
  {
   "cell_type": "code",
   "execution_count": 10,
   "metadata": {},
   "outputs": [],
   "source": [
    "# Tabulated values for Ci\n",
    "h_data = [0, 0.1, 0.5, 1, 2, 3, 4, 5, 6, 7, 8, 9, 10]\n",
    "Ci_data = [0, 100, 225, 1034, 4750, 11023, 16971, 21692, 26509, 31408, 36377, 41409, 46498]\n",
    "\n",
    "# Interpolated Ci(h_d) function\n",
    "Ci_func = interp1d(h_data, Ci_data)"
   ]
  },
  {
   "cell_type": "code",
   "execution_count": 11,
   "metadata": {},
   "outputs": [],
   "source": [
    "# Tabulated values for Cs and Cg\n",
    "S_data = [-100, -0.1, 0, 0.5, 1, 1.5, 2, 100]\n",
    "Cs_data = [0, 0, 0, 150, 1500, 2000, 2000, 2000]\n",
    "Cg_data = [0, 0, 0.1, 0.5, 1, 1, 1, 1]\n",
    "\n",
    "# Interpolated Cs(S) and Cg(S) functions\n",
    "Cs_func = interp1d(S_data, Cs_data)\n",
    "Cg_func = interp1d(S_data, Cg_data)"
   ]
  },
  {
   "cell_type": "markdown",
   "metadata": {},
   "source": [
    "### 2 : Generate our random variables to get a pdf for S"
   ]
  },
  {
   "cell_type": "code",
   "execution_count": 12,
   "metadata": {},
   "outputs": [],
   "source": [
    "# Constants\n",
    "L = 5000    # Length of section (m)\n",
    "B = 300     # Watercourse width (m)\n",
    "Zb = 55.5  # Shoreline elevation (m NGF)\n",
    "\n",
    "# Simulation parameters \n",
    "vec_size = 100000                # Points to generate\n",
    "\n",
    "def simulation(vec_size):\n",
    "    \"\"\"\n",
    "    Generates a vector of observations of S s.t h_d=0\n",
    "    \"\"\"\n",
    "    mode_Q, scale_Q = 1013, 558 # Q law (Gumbel)\n",
    "    exp_K, std_K = 30, 7.5      # Ks law (Gaussian)\n",
    "    exp_Zv, hr_Zv = 50, 1       # Zv law (Triangular)\n",
    "    exp_Zm, hr_Zm = 55, 1       # Zm law (Triangular)\n",
    "\n",
    "    # Generate random variables vectors of size vec_size\n",
    "    Q_vec = stat.gumbel_r.rvs(loc=mode_Q, scale=scale_Q, size=vec_size)\n",
    "    Ks_vec = stat.norm.rvs(loc=exp_K, scale=std_K, size=vec_size)\n",
    "    Zv_vec = stat.triang.rvs(c=1/2, loc=exp_Zv-hr_Zv, scale=2*hr_Zv, size=vec_size)\n",
    "    Zm_vec = stat.triang.rvs(c=1/2, loc=exp_Zm-hr_Zm, scale=2*hr_Zm, size=vec_size)\n",
    "\n",
    "    to_remove_ind = [] # List of indexes that violate positivity criteria\n",
    "    for i in range(len(Q_vec)):\n",
    "        if Q_vec[i]<=0:\n",
    "            to_remove_ind.append(i)\n",
    "        if Ks_vec[i]<=1:\n",
    "            to_remove_ind.append(i)\n",
    "    to_remove_ind = np.array(to_remove_ind)\n",
    "\n",
    "    # Removing these indices from the dataset\n",
    "    Q_vec = np.delete(Q_vec, to_remove_ind)\n",
    "    Ks_vec = np.delete(Ks_vec, to_remove_ind)\n",
    "    Zv_vec = np.delete(Zv_vec, to_remove_ind)\n",
    "    Zm_vec = np.delete(Zm_vec, to_remove_ind)\n",
    "\n",
    "    H_vec = (Q_vec/(Ks_vec*B*np.sqrt((Zm_vec-Zv_vec)/L)))**(3/5)\n",
    "    S = Zv_vec + H_vec - Zb\n",
    "    return S"
   ]
  },
  {
   "cell_type": "markdown",
   "metadata": {},
   "source": [
    "### 3 : Minimizing the expected annual cost for the dike\n",
    "\n",
    "Here, we want to minimize the expected mean annual cost for the dike :\n",
    "$$ C = \\mathbb{E}(C_{c,mean}) = \\frac{C_t}{T} + \\mathbb{E}(C_d(S)) $$\n",
    "We suppose the damage cost to be independant of the time to have this simplified expression."
   ]
  },
  {
   "cell_type": "code",
   "execution_count": 13,
   "metadata": {},
   "outputs": [],
   "source": [
    "def total_cost(h, T, S):\n",
    "    \"\"\"\n",
    "    h (float): Height of the dike in m\n",
    "    T (int): Time interval for cost calculation in years\n",
    "    S (array): Observations of the law of S s.t h=0\n",
    "    Returns the expected total mean cost for the dike (in M€)\n",
    "    \"\"\"\n",
    "    # Investment and maintenance cost\n",
    "    Ci = Ci_func(h)/1000 # Conversion to M€\n",
    "    Ct = (1+T/100)*Ci\n",
    "\n",
    "    # Cost of damage distribution\n",
    "    S_truth = S - h\n",
    "    Cs = Cs_func(S_truth)\n",
    "    Cg = Cg_func(S_truth)\n",
    "    Cd = Cs + Cg*Ci\n",
    "\n",
    "    # Expected mean cost\n",
    "    Cc_m = Ct/T + np.mean(Cd)\n",
    "    return Cc_m"
   ]
  },
  {
   "cell_type": "code",
   "execution_count": 14,
   "metadata": {},
   "outputs": [
    {
     "data": {
      "image/png": "[encoded data removed]",
      "text/plain": [
       "<Figure size 432x288 with 1 Axes>"
      ]
     },
     "metadata": {
      "needs_background": "light"
     },
     "output_type": "display_data"
    },
    {
     "name": "stdout",
     "output_type": "stream",
     "text": [
      "[3.66222406]\n"
     ]
    }
   ],
   "source": [
    "h_d = np.linspace(0, 10, 1000) #Test with 100 dike heights between 0 and 5 meters\n",
    "T = 30 # Time for the cost calculation, here 30 years\n",
    "S = simulation(vec_size)\n",
    "\n",
    "Cc_mean = np.array([total_cost(h, T, S) for h in h_d])\n",
    "\n",
    "plt.figure()\n",
    "plt.plot(h_d, Cc_mean)\n",
    "plt.xlabel(r\"$h_d$ ($m$)\")\n",
    "plt.ylabel(r\"Cost ($M€/year$)\")\n",
    "plt.show()\n",
    "\n",
    "def cost_h(h):\n",
    "    return total_cost(h, T, S)\n",
    "res = minimize(cost_h, 1)\n",
    "print(res['x'])"
   ]
  },
  {
   "cell_type": "markdown",
   "metadata": {},
   "source": [
    "### 4 : Confidence interval for $h_d$\n",
    "\n",
    "Once again, we minimize the cost function multiple times to get a confidence interval for $h_d$ and increase the robustness of our results."
   ]
  },
  {
   "cell_type": "code",
   "execution_count": 15,
   "metadata": {},
   "outputs": [],
   "source": [
    "N_iter = 1000\n",
    "dike_heights = np.zeros(N_iter)\n",
    "\n",
    "for i in range(N_iter):\n",
    "    S = simulation(vec_size)\n",
    "    res = minimize(cost_h, 1)\n",
    "    dike_heights[i] = res['x']"
   ]
  },
  {
   "cell_type": "code",
   "execution_count": 16,
   "metadata": {},
   "outputs": [
    {
     "name": "stdout",
     "output_type": "stream",
     "text": [
      "Confidence Interval for h_d at 95% confidence level :\n",
      "[2.82, 4.51]\n",
      "Mean value : 3.50\n"
     ]
    },
    {
     "data": {
      "image/png": "[encoded data removed]",
      "text/plain": [
       "<Figure size 432x288 with 1 Axes>"
      ]
     },
     "metadata": {
      "needs_background": "light"
     },
     "output_type": "display_data"
    }
   ],
   "source": [
    "print(\"Confidence Interval for h_d at 95% confidence level :\")\n",
    "print(\"[{a:.2f}, {b:.2f}]\".format(a=np.quantile(dike_heights, 0.025), b=np.quantile(dike_heights, 0.975)))\n",
    "print(\"Mean value : {a:.2f}\".format(a=np.mean(dike_heights)))\n",
    "\n",
    "plt.figure()\n",
    "plt.hist(dike_heights, bins=100, density=True)\n",
    "plt.xlabel(r\"$h_d$ ($m$)\")\n",
    "plt.ylabel(\"Frequency\")\n",
    "plt.show()"
   ]
  }
 ],
 "metadata": {
  "interpreter": {
   "hash": "dfbe69d09349a49120ff36b7a9d7a3d6297f4f930536f8fd166c745a423a6004"
  },
  "kernelspec": {
   "display_name": "Python 3.8.8 ('base')",
   "language": "python",
   "name": "python3"
  },
  "language_info": {
   "codemirror_mode": {
    "name": "ipython",
    "version": 3
   },
   "file_extension": ".py",
   "mimetype": "text/x-python",
   "name": "python",
   "nbconvert_exporter": "python",
   "pygments_lexer": "ipython3",
   "version": "3.8.8"
  },
  "orig_nbformat": 4
 },
 "nbformat": 4,
 "nbformat_minor": 2
}
